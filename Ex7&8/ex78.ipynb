{
 "cells": [
  {
   "cell_type": "code",
   "execution_count": 158,
   "metadata": {},
   "outputs": [],
   "source": [
    "\n",
    "with open('data/data.txt') as f:\n",
    "    input_lines = f.readlines()\n",
    "    \n",
    "input_lines = [line.strip() for line in input_lines] \n",
    "\n",
    "input_lines_matrix = [[c for c in row] for row in input_lines]"
   ]
  },
  {
   "cell_type": "code",
   "execution_count": 125,
   "metadata": {},
   "outputs": [
    {
     "data": {
      "text/plain": [
       "['X', 'M', 'A', 'S']"
      ]
     },
     "execution_count": 125,
     "metadata": {},
     "output_type": "execute_result"
    }
   ],
   "source": [
    "input_lines[1][1:5]\n",
    "input_lines[1][1:5]\n",
    "[r[9] for r in input_lines[3:7]]"
   ]
  },
  {
   "cell_type": "code",
   "execution_count": 126,
   "metadata": {},
   "outputs": [
    {
     "data": {
      "text/plain": [
       "True"
      ]
     },
     "execution_count": 126,
     "metadata": {},
     "output_type": "execute_result"
    }
   ],
   "source": [
    "import re\n",
    "\n",
    "xmas_matcher = lambda str : re.fullmatch(r\"^(XMAS)$\", str) is not None\n",
    "\n",
    "xmas_matcher(\"XMAS\")"
   ]
  },
  {
   "cell_type": "code",
   "execution_count": 144,
   "metadata": {},
   "outputs": [],
   "source": [
    "directions = {\n",
    "    \"E\" : lambda x, y: [(y, xi) for xi in range(x, x+4)],\n",
    "    \"W\" : lambda x, y: [(y, xi) for xi in range(x-3, x+1)][::-1],\n",
    "    \"N\" : lambda x, y: [(yi, x) for yi in range(y-3, y+1)][::-1],\n",
    "    \"S\" : lambda x, y: [(yi, x) for yi in range(y, y+4)],\n",
    "    \"NE\" : lambda x, y: [(y-i,x+i) for i in range(4)],\n",
    "    \"NW\" : lambda x, y: [(y-i,x-i) for i in range(4)],\n",
    "    \"SE\" : lambda x, y: [(y+i,x+i) for i in range(4)],\n",
    "    \"SW\" : lambda x, y: [(y+i,x-i) for i in range(4)],\n",
    "}"
   ]
  },
  {
   "cell_type": "code",
   "execution_count": 143,
   "metadata": {},
   "outputs": [
    {
     "data": {
      "text/plain": [
       "[(5, 6), (5, 7), (5, 8), (5, 9)]"
      ]
     },
     "execution_count": 143,
     "metadata": {},
     "output_type": "execute_result"
    }
   ],
   "source": [
    "a = directions[\"E\"](6, 5)\n",
    "a"
   ]
  },
  {
   "cell_type": "code",
   "execution_count": 117,
   "metadata": {},
   "outputs": [],
   "source": [
    "def get_string(direction_indexes, matrix):\n",
    "    return ''.join([matrix[y][x] for (y, x) in direction_indexes])"
   ]
  },
  {
   "cell_type": "code",
   "execution_count": 118,
   "metadata": {},
   "outputs": [
    {
     "data": {
      "text/plain": [
       "'ASAS'"
      ]
     },
     "execution_count": 118,
     "metadata": {},
     "output_type": "execute_result"
    }
   ],
   "source": [
    "get_string(a, input_lines_matrix)"
   ]
  },
  {
   "cell_type": "code",
   "execution_count": 77,
   "metadata": {},
   "outputs": [
    {
     "data": {
      "text/plain": [
       "'SAMX'"
      ]
     },
     "execution_count": 77,
     "metadata": {},
     "output_type": "execute_result"
    }
   ],
   "source": [
    "get_string(directions[\"E\"](1, 1), input_lines)"
   ]
  },
  {
   "cell_type": "code",
   "execution_count": 119,
   "metadata": {},
   "outputs": [],
   "source": [
    "def test(direction, matrix, x, y):\n",
    "    return direction(matrix, x, y)"
   ]
  },
  {
   "cell_type": "code",
   "execution_count": 79,
   "metadata": {},
   "outputs": [],
   "source": [
    "def replace_with_dots(direction, matrix):\n",
    "    for (x, y) in direction:\n",
    "        matrix[y][x] = '.'\n",
    "    return matrix"
   ]
  },
  {
   "cell_type": "code",
   "execution_count": 148,
   "metadata": {},
   "outputs": [],
   "source": [
    "needed_length = len(\"XMAS\")\n",
    "count = 0\n",
    "width = len(input_lines[0])\n",
    "height = len(input_lines)\n",
    "for y in range(height):\n",
    "    for x in range(width):\n",
    "        possible_directions_we = []\n",
    "        possible_directions_ns = []\n",
    "        if x <= width - needed_length:\n",
    "            possible_directions_we += \"E\"\n",
    "        if x >= needed_length - 1:\n",
    "            possible_directions_we += \"W\"\n",
    "        if y <= height - needed_length:\n",
    "            possible_directions_ns += \"S\"\n",
    "        if y >= needed_length - 1:\n",
    "            possible_directions_ns += \"N\"\n",
    "\n",
    "        possible_directions = possible_directions_ns + possible_directions_we + [v + h for h in possible_directions_we for v in possible_directions_ns]        \n",
    "        \n",
    "        # print(x,y)\n",
    "        # print(possible_directions)\n",
    "        for direction in possible_directions:\n",
    "            direction_indexes = directions[direction](x, y)\n",
    "            s = get_string(direction_indexes, input_lines_matrix)\n",
    "            # print(s)\n",
    "            if xmas_matcher(s):\n",
    "                # print(\"add\")\n",
    "                count += 1\n",
    "        \n",
    "\n",
    "        "
   ]
  },
  {
   "cell_type": "code",
   "execution_count": 149,
   "metadata": {},
   "outputs": [
    {
     "data": {
      "text/plain": [
       "2562"
      ]
     },
     "execution_count": 149,
     "metadata": {},
     "output_type": "execute_result"
    }
   ],
   "source": [
    "count"
   ]
  },
  {
   "cell_type": "code",
   "execution_count": 152,
   "metadata": {},
   "outputs": [],
   "source": [
    "slashes_indexers = {\n",
    "    \"R\": lambda x, y: [(x-1, y-1), (x, y), (x+1, y+1)],\n",
    "    \"L\": lambda x, y: [(x-1, y+1), (x, y), (x+1, y-1)]\n",
    "}"
   ]
  },
  {
   "cell_type": "code",
   "execution_count": 154,
   "metadata": {},
   "outputs": [],
   "source": [
    "mas_matcher = lambda s : re.fullmatch(r\"^MAS$\", s) is not None"
   ]
  },
  {
   "cell_type": "code",
   "execution_count": 160,
   "metadata": {},
   "outputs": [
    {
     "data": {
      "text/plain": [
       "[['M', 'M', 'M', 'S', 'X', 'X', 'M', 'A', 'S', 'M'],\n",
       " ['M', 'S', 'A', 'M', 'X', 'M', 'S', 'M', 'S', 'A'],\n",
       " ['A', 'M', 'X', 'S', 'X', 'M', 'A', 'A', 'M', 'M'],\n",
       " ['M', 'S', 'A', 'M', 'A', 'S', 'M', 'S', 'M', 'X'],\n",
       " ['X', 'M', 'A', 'S', 'A', 'M', 'X', 'A', 'M', 'M'],\n",
       " ['X', 'X', 'A', 'M', 'M', 'X', 'X', 'A', 'M', 'A'],\n",
       " ['S', 'M', 'S', 'M', 'S', 'A', 'S', 'X', 'S', 'S'],\n",
       " ['S', 'A', 'X', 'A', 'M', 'A', 'S', 'A', 'A', 'A'],\n",
       " ['M', 'A', 'M', 'M', 'M', 'X', 'M', 'M', 'M', 'M'],\n",
       " ['M', 'X', 'M', 'X', 'A', 'X', 'M', 'A', 'S', 'X']]"
      ]
     },
     "execution_count": 160,
     "metadata": {},
     "output_type": "execute_result"
    }
   ],
   "source": [
    "input_lines_matrix"
   ]
  },
  {
   "cell_type": "code",
   "execution_count": null,
   "metadata": {},
   "outputs": [
    {
     "name": "stdout",
     "output_type": "stream",
     "text": [
      "1 1\n",
      "[(0, 0), (1, 1), (2, 2)] [(0, 2), (1, 1), (2, 0)]\n",
      "MSX MSA\n",
      "2 1\n",
      "[(1, 0), (2, 1), (3, 2)] [(1, 2), (2, 1), (3, 0)]\n",
      "MMA AMM\n",
      "3 1\n",
      "[(2, 0), (3, 1), (4, 2)] [(2, 2), (3, 1), (4, 0)]\n",
      "ASA XSX\n",
      "4 1\n",
      "[(3, 0), (4, 1), (5, 2)] [(3, 2), (4, 1), (5, 0)]\n",
      "MMA AMX\n",
      "5 1\n",
      "[(4, 0), (5, 1), (6, 2)] [(4, 2), (5, 1), (6, 0)]\n",
      "XXS AXS\n",
      "6 1\n",
      "[(5, 0), (6, 1), (7, 2)] [(5, 2), (6, 1), (7, 0)]\n",
      "XMX AMS\n",
      "7 1\n",
      "[(6, 0), (7, 1), (8, 2)] [(6, 2), (7, 1), (8, 0)]\n",
      "SAM SAM\n",
      "8 1\n",
      "[(7, 0), (8, 1), (9, 2)] [(7, 2), (8, 1), (9, 0)]\n",
      "SAM XAM\n",
      "1 2\n",
      "[(0, 1), (1, 2), (2, 3)] [(0, 3), (1, 2), (2, 1)]\n",
      "MAS SAM\n",
      "2 2\n",
      "[(1, 1), (2, 2), (3, 3)] [(1, 3), (2, 2), (3, 1)]\n",
      "SXM MXS\n",
      "3 2\n",
      "[(2, 1), (3, 2), (4, 3)] [(2, 3), (3, 2), (4, 1)]\n",
      "MAS SAM\n",
      "4 2\n",
      "[(3, 1), (4, 2), (5, 3)] [(3, 3), (4, 2), (5, 1)]\n",
      "SAM MAX\n",
      "5 2\n",
      "[(4, 1), (5, 2), (6, 3)] [(4, 3), (5, 2), (6, 1)]\n",
      "MAM SAM\n",
      "6 2\n",
      "[(5, 1), (6, 2), (7, 3)] [(5, 3), (6, 2), (7, 1)]\n",
      "XSA MSA\n",
      "7 2\n",
      "[(6, 1), (7, 2), (8, 3)] [(6, 3), (7, 2), (8, 1)]\n",
      "MXM MXA\n",
      "8 2\n",
      "[(7, 1), (8, 2), (9, 3)] [(7, 3), (8, 2), (9, 1)]\n",
      "AMX AMX\n",
      "1 3\n",
      "[(0, 2), (1, 3), (2, 4)] [(0, 4), (1, 3), (2, 2)]\n",
      "MMX XMX\n",
      "2 3\n",
      "[(1, 2), (2, 3), (3, 4)] [(1, 4), (2, 3), (3, 2)]\n",
      "ASA XSA\n",
      "3 3\n",
      "[(2, 2), (3, 3), (4, 4)] [(2, 4), (3, 3), (4, 2)]\n",
      "XMA XMA\n",
      "4 3\n",
      "[(3, 2), (4, 3), (5, 4)] [(3, 4), (4, 3), (5, 2)]\n",
      "ASM ASA\n",
      "5 3\n",
      "[(4, 2), (5, 3), (6, 4)] [(4, 4), (5, 3), (6, 2)]\n",
      "AMS AMS\n",
      "6 3\n",
      "[(5, 2), (6, 3), (7, 4)] [(5, 4), (6, 3), (7, 2)]\n",
      "AMM MMX\n",
      "7 3\n",
      "[(6, 2), (7, 3), (8, 4)] [(6, 4), (7, 3), (8, 2)]\n",
      "SAM SAM\n",
      "8 3\n",
      "[(7, 2), (8, 3), (9, 4)] [(7, 4), (8, 3), (9, 2)]\n",
      "XMA MMM\n",
      "1 4\n",
      "[(0, 3), (1, 4), (2, 5)] [(0, 5), (1, 4), (2, 3)]\n",
      "SXM XXS\n",
      "2 4\n",
      "[(1, 3), (2, 4), (3, 5)] [(1, 5), (2, 4), (3, 3)]\n",
      "MXS MXM\n",
      "3 4\n",
      "[(2, 3), (3, 4), (4, 5)] [(2, 5), (3, 4), (4, 3)]\n",
      "SAM MAS\n",
      "4 4\n",
      "[(3, 3), (4, 4), (5, 5)] [(3, 5), (4, 4), (5, 3)]\n",
      "MAX SAM\n",
      "5 4\n",
      "[(4, 3), (5, 4), (6, 5)] [(4, 5), (5, 4), (6, 3)]\n",
      "SMA MMM\n",
      "6 4\n",
      "[(5, 3), (6, 4), (7, 5)] [(5, 5), (6, 4), (7, 3)]\n",
      "MSA XSA\n",
      "7 4\n",
      "[(6, 3), (7, 4), (8, 5)] [(6, 5), (7, 4), (8, 3)]\n",
      "MMX AMM\n",
      "8 4\n",
      "[(7, 3), (8, 4), (9, 5)] [(7, 5), (8, 4), (9, 3)]\n",
      "AMX AMX\n",
      "1 5\n",
      "[(0, 4), (1, 5), (2, 6)] [(0, 6), (1, 5), (2, 4)]\n",
      "XMA MMX\n",
      "2 5\n",
      "[(1, 4), (2, 5), (3, 6)] [(1, 6), (2, 5), (3, 4)]\n",
      "XMM SMA\n",
      "3 5\n",
      "[(2, 4), (3, 5), (4, 6)] [(2, 6), (3, 5), (4, 4)]\n",
      "XSX ASA\n",
      "4 5\n",
      "[(3, 4), (4, 5), (5, 6)] [(3, 6), (4, 5), (5, 4)]\n",
      "AMX MMM\n",
      "5 5\n",
      "[(4, 4), (5, 5), (6, 6)] [(4, 6), (5, 5), (6, 4)]\n",
      "AXS XXS\n",
      "6 5\n",
      "[(5, 4), (6, 5), (7, 6)] [(5, 6), (6, 5), (7, 4)]\n",
      "MAS XAM\n",
      "7 5\n",
      "[(6, 4), (7, 5), (8, 6)] [(6, 6), (7, 5), (8, 4)]\n",
      "SAM SAM\n",
      "8 5\n",
      "[(7, 4), (8, 5), (9, 6)] [(7, 6), (8, 5), (9, 4)]\n",
      "MXM SXA\n",
      "1 6\n",
      "[(0, 5), (1, 6), (2, 7)] [(0, 7), (1, 6), (2, 5)]\n",
      "XSA ASM\n",
      "2 6\n",
      "[(1, 5), (2, 6), (3, 7)] [(1, 7), (2, 6), (3, 5)]\n",
      "MAS MAS\n",
      "3 6\n",
      "[(2, 5), (3, 6), (4, 7)] [(2, 7), (3, 6), (4, 5)]\n",
      "MMA AMM\n",
      "4 6\n",
      "[(3, 5), (4, 6), (5, 7)] [(3, 7), (4, 6), (5, 5)]\n",
      "SXA SXX\n",
      "5 6\n",
      "[(4, 5), (5, 6), (6, 7)] [(4, 7), (5, 6), (6, 5)]\n",
      "MXX AXA\n",
      "6 6\n",
      "[(5, 5), (6, 6), (7, 7)] [(5, 7), (6, 6), (7, 5)]\n",
      "XSA ASA\n",
      "7 6\n",
      "[(6, 5), (7, 6), (8, 7)] [(6, 7), (7, 6), (8, 5)]\n",
      "ASM XSX\n",
      "8 6\n",
      "[(7, 5), (8, 6), (9, 7)] [(7, 7), (8, 6), (9, 5)]\n",
      "AMA AMX\n",
      "1 7\n",
      "[(0, 6), (1, 7), (2, 8)] [(0, 8), (1, 7), (2, 6)]\n",
      "MMM SMA\n",
      "2 7\n",
      "[(1, 6), (2, 7), (3, 8)] [(1, 8), (2, 7), (3, 6)]\n",
      "SAM SAM\n",
      "3 7\n",
      "[(2, 6), (3, 7), (4, 8)] [(2, 8), (3, 7), (4, 6)]\n",
      "ASM MSX\n",
      "4 7\n",
      "[(3, 6), (4, 7), (5, 8)] [(3, 8), (4, 7), (5, 6)]\n",
      "MAM MAX\n",
      "5 7\n",
      "[(4, 6), (5, 7), (6, 8)] [(4, 8), (5, 7), (6, 6)]\n",
      "XAS MAS\n",
      "6 7\n",
      "[(5, 6), (6, 7), (7, 8)] [(5, 8), (6, 7), (7, 6)]\n",
      "XXA MXS\n",
      "7 7\n",
      "[(6, 6), (7, 7), (8, 8)] [(6, 8), (7, 7), (8, 6)]\n",
      "SAM SAM\n",
      "8 7\n",
      "[(7, 6), (8, 7), (9, 8)] [(7, 8), (8, 7), (9, 6)]\n",
      "SMS AMM\n",
      "1 8\n",
      "[(0, 7), (1, 8), (2, 9)] [(0, 9), (1, 8), (2, 7)]\n",
      "ASM MSA\n",
      "2 8\n",
      "[(1, 7), (2, 8), (3, 9)] [(1, 9), (2, 8), (3, 7)]\n",
      "MMX AMS\n",
      "3 8\n",
      "[(2, 7), (3, 8), (4, 9)] [(2, 9), (3, 8), (4, 7)]\n",
      "AMM MMA\n",
      "4 8\n",
      "[(3, 7), (4, 8), (5, 9)] [(3, 9), (4, 8), (5, 7)]\n",
      "SMA XMA\n",
      "5 8\n",
      "[(4, 7), (5, 8), (6, 9)] [(4, 9), (5, 8), (6, 7)]\n",
      "AMS MMX\n",
      "6 8\n",
      "[(5, 7), (6, 8), (7, 9)] [(5, 9), (6, 8), (7, 7)]\n",
      "ASA ASA\n",
      "7 8\n",
      "[(6, 7), (7, 8), (8, 9)] [(6, 9), (7, 8), (8, 7)]\n",
      "XAM SAM\n",
      "8 8\n",
      "[(7, 7), (8, 8), (9, 9)] [(7, 9), (8, 8), (9, 7)]\n",
      "AMX AMA\n",
      "1\n"
     ]
    }
   ],
   "source": [
    "count = 0\n",
    "width = len(input_lines[0])\n",
    "height = len(input_lines)\n",
    "for y in range(height):\n",
    "    for x in range(width):\n",
    "        if x == 0 or x == width - 1:\n",
    "            continue\n",
    "        if y == 0 or y == height - 1:\n",
    "            continue\n",
    "        \n",
    "        r_slash_indexes = slashes_indexers[\"R\"](x,y)\n",
    "        l_slash_indexes = slashes_indexers[\"L\"](x,y)\n",
    "        \n",
    "        r_string = get_string(r_slash_indexes, input_lines_matrix)\n",
    "        l_string = get_string(l_slash_indexes, input_lines_matrix)\n",
    "        print(x, y)\n",
    "        print(r_slash_indexes, l_slash_indexes)\n",
    "        print(r_string, l_string)\n",
    "        \n",
    "        if mas_matcher(r_string) and mas_matcher(l_string):\n",
    "            count += 1\n",
    "        \n",
    "\n",
    "print(count)"
   ]
  }
 ],
 "metadata": {
  "kernelspec": {
   "display_name": "Python 3",
   "language": "python",
   "name": "python3"
  },
  "language_info": {
   "codemirror_mode": {
    "name": "ipython",
    "version": 3
   },
   "file_extension": ".py",
   "mimetype": "text/x-python",
   "name": "python",
   "nbconvert_exporter": "python",
   "pygments_lexer": "ipython3",
   "version": "3.12.7"
  }
 },
 "nbformat": 4,
 "nbformat_minor": 2
}
