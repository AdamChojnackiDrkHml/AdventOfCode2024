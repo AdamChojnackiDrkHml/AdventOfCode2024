{
 "cells": [
  {
   "cell_type": "code",
   "execution_count": 166,
   "metadata": {},
   "outputs": [],
   "source": [
    "\n",
    "with open('data/data.txt') as f:\n",
    "    input_lines = f.readlines()\n",
    "    \n",
    "input_lines = [line.strip() for line in input_lines] \n",
    "\n",
    "input_lines_matrix = [[c for c in row] for row in input_lines]"
   ]
  },
  {
   "cell_type": "code",
   "execution_count": 126,
   "metadata": {},
   "outputs": [
    {
     "data": {
      "text/plain": [
       "True"
      ]
     },
     "execution_count": 126,
     "metadata": {},
     "output_type": "execute_result"
    }
   ],
   "source": [
    "import re\n",
    "\n",
    "xmas_matcher = lambda str : re.fullmatch(r\"^(XMAS)$\", str) is not None\n",
    "\n",
    "xmas_matcher(\"XMAS\")"
   ]
  },
  {
   "cell_type": "code",
   "execution_count": 144,
   "metadata": {},
   "outputs": [],
   "source": [
    "directions = {\n",
    "    \"E\" : lambda x, y: [(y, xi) for xi in range(x, x+4)],\n",
    "    \"W\" : lambda x, y: [(y, xi) for xi in range(x-3, x+1)][::-1],\n",
    "    \"N\" : lambda x, y: [(yi, x) for yi in range(y-3, y+1)][::-1],\n",
    "    \"S\" : lambda x, y: [(yi, x) for yi in range(y, y+4)],\n",
    "    \"NE\" : lambda x, y: [(y-i,x+i) for i in range(4)],\n",
    "    \"NW\" : lambda x, y: [(y-i,x-i) for i in range(4)],\n",
    "    \"SE\" : lambda x, y: [(y+i,x+i) for i in range(4)],\n",
    "    \"SW\" : lambda x, y: [(y+i,x-i) for i in range(4)],\n",
    "}"
   ]
  },
  {
   "cell_type": "code",
   "execution_count": 117,
   "metadata": {},
   "outputs": [],
   "source": [
    "def get_string(direction_indexes, matrix):\n",
    "    return ''.join([matrix[y][x] for (y, x) in direction_indexes])"
   ]
  },
  {
   "cell_type": "code",
   "execution_count": 148,
   "metadata": {},
   "outputs": [],
   "source": [
    "needed_length = len(\"XMAS\")\n",
    "count = 0\n",
    "width = len(input_lines[0])\n",
    "height = len(input_lines)\n",
    "for y in range(height):\n",
    "    for x in range(width):\n",
    "        possible_directions_we = []\n",
    "        possible_directions_ns = []\n",
    "        if x <= width - needed_length:\n",
    "            possible_directions_we += \"E\"\n",
    "        if x >= needed_length - 1:\n",
    "            possible_directions_we += \"W\"\n",
    "        if y <= height - needed_length:\n",
    "            possible_directions_ns += \"S\"\n",
    "        if y >= needed_length - 1:\n",
    "            possible_directions_ns += \"N\"\n",
    "\n",
    "        possible_directions = possible_directions_ns + possible_directions_we + [v + h for h in possible_directions_we for v in possible_directions_ns]        \n",
    "        \n",
    "        # print(x,y)\n",
    "        # print(possible_directions)\n",
    "        for direction in possible_directions:\n",
    "            direction_indexes = directions[direction](x, y)\n",
    "            s = get_string(direction_indexes, input_lines_matrix)\n",
    "            # print(s)\n",
    "            if xmas_matcher(s):\n",
    "                # print(\"add\")\n",
    "                count += 1\n",
    "        \n",
    "\n",
    "        "
   ]
  },
  {
   "cell_type": "code",
   "execution_count": 149,
   "metadata": {},
   "outputs": [
    {
     "data": {
      "text/plain": [
       "2562"
      ]
     },
     "execution_count": 149,
     "metadata": {},
     "output_type": "execute_result"
    }
   ],
   "source": [
    "count"
   ]
  },
  {
   "cell_type": "code",
   "execution_count": 152,
   "metadata": {},
   "outputs": [],
   "source": [
    "slashes_indexers = {\n",
    "    \"R\": lambda x, y: [(x-1, y-1), (x, y), (x+1, y+1)],\n",
    "    \"L\": lambda x, y: [(x-1, y+1), (x, y), (x+1, y-1)]\n",
    "}"
   ]
  },
  {
   "cell_type": "code",
   "execution_count": 164,
   "metadata": {},
   "outputs": [],
   "source": [
    "mas_matcher = lambda s : re.fullmatch(r\"^(MAS|SAM)$\", s) is not None"
   ]
  },
  {
   "cell_type": "code",
   "execution_count": 167,
   "metadata": {},
   "outputs": [
    {
     "name": "stdout",
     "output_type": "stream",
     "text": [
      "1902\n"
     ]
    }
   ],
   "source": [
    "count = 0\n",
    "width = len(input_lines[0])\n",
    "height = len(input_lines)\n",
    "for y in range(height):\n",
    "    for x in range(width):\n",
    "        if x == 0 or x == width - 1:\n",
    "            continue\n",
    "        if y == 0 or y == height - 1:\n",
    "            continue\n",
    "        \n",
    "        r_slash_indexes = slashes_indexers[\"R\"](x,y)\n",
    "        l_slash_indexes = slashes_indexers[\"L\"](x,y)\n",
    "        \n",
    "        r_string = get_string(r_slash_indexes, input_lines_matrix)\n",
    "        l_string = get_string(l_slash_indexes, input_lines_matrix)\n",
    "        \n",
    "        if mas_matcher(r_string) and mas_matcher(l_string):\n",
    "            count += 1\n",
    "        \n",
    "\n",
    "print(count)"
   ]
  }
 ],
 "metadata": {
  "kernelspec": {
   "display_name": "Python 3",
   "language": "python",
   "name": "python3"
  },
  "language_info": {
   "codemirror_mode": {
    "name": "ipython",
    "version": 3
   },
   "file_extension": ".py",
   "mimetype": "text/x-python",
   "name": "python",
   "nbconvert_exporter": "python",
   "pygments_lexer": "ipython3",
   "version": "3.12.7"
  }
 },
 "nbformat": 4,
 "nbformat_minor": 2
}
